{
 "cells": [
  {
   "cell_type": "code",
   "execution_count": 53,
   "metadata": {},
   "outputs": [],
   "source": [
    "from pyspark.sql import SparkSession\n",
    "spark = SparkSession\\\n",
    "    .builder\\\n",
    "    .appName(\"ETL Scrapy\")\\\n",
    "    .config('spark.sql.repl.eagerEval.enabled', \"true\")\\\n",
    "    .config('spark.sql.execution.arrow.enabled', \"true\")\\\n",
    "    .config('spark.sql.execution.arrow.fallback.enabled', \"true\")\\\n",
    "    .getOrCreate()"
   ]
  },
  {
   "cell_type": "code",
   "execution_count": 54,
   "metadata": {},
   "outputs": [],
   "source": [
    "from pyspark.context import SparkContext\n",
    "sc = SparkContext.getOrCreate(\"local[*]\")"
   ]
  },
  {
   "cell_type": "code",
   "execution_count": 55,
   "metadata": {},
   "outputs": [],
   "source": [
    "from pyspark.sql import SQLContext\n",
    "sqlContext = SQLContext(sc)"
   ]
  },
  {
   "cell_type": "code",
   "execution_count": 56,
   "metadata": {},
   "outputs": [],
   "source": [
    "lines = sqlContext.read\\\n",
    "    .option(\"multiline\", \"true\")\\\n",
    "    .json('hdfs://localhost:8020/user/danielqueiroz/input/resultado_crawler_*.json')"
   ]
  },
  {
   "cell_type": "code",
   "execution_count": 57,
   "metadata": {},
   "outputs": [
    {
     "name": "stdout",
     "output_type": "stream",
     "text": [
      "root\n",
      " |-- foo: array (nullable = true)\n",
      " |    |-- element: struct (containsNull = true)\n",
      " |    |    |-- page_category: string (nullable = true)\n",
      " |    |    |-- page_category_text: string (nullable = true)\n",
      " |    |    |-- page_url: string (nullable = true)\n",
      " |    |    |-- question_answers: struct (nullable = true)\n",
      " |    |    |    |-- question_answer_0: string (nullable = true)\n",
      " |    |    |    |-- question_answer_10: string (nullable = true)\n",
      " |    |    |    |-- question_answer_11: string (nullable = true)\n",
      " |    |    |    |-- question_answer_12: string (nullable = true)\n",
      " |    |    |    |-- question_answer_13: string (nullable = true)\n",
      " |    |    |    |-- question_answer_14: string (nullable = true)\n",
      " |    |    |    |-- question_answer_15: string (nullable = true)\n",
      " |    |    |    |-- question_answer_16: string (nullable = true)\n",
      " |    |    |    |-- question_answer_17: string (nullable = true)\n",
      " |    |    |    |-- question_answer_18: string (nullable = true)\n",
      " |    |    |    |-- question_answer_19: string (nullable = true)\n",
      " |    |    |    |-- question_answer_2: string (nullable = true)\n",
      " |    |    |    |-- question_answer_20: string (nullable = true)\n",
      " |    |    |    |-- question_answer_21: string (nullable = true)\n",
      " |    |    |    |-- question_answer_22: string (nullable = true)\n",
      " |    |    |    |-- question_answer_23: string (nullable = true)\n",
      " |    |    |    |-- question_answer_24: string (nullable = true)\n",
      " |    |    |    |-- question_answer_25: string (nullable = true)\n",
      " |    |    |    |-- question_answer_26: string (nullable = true)\n",
      " |    |    |    |-- question_answer_27: string (nullable = true)\n",
      " |    |    |    |-- question_answer_28: string (nullable = true)\n",
      " |    |    |    |-- question_answer_29: string (nullable = true)\n",
      " |    |    |    |-- question_answer_3: string (nullable = true)\n",
      " |    |    |    |-- question_answer_30: string (nullable = true)\n",
      " |    |    |    |-- question_answer_4: string (nullable = true)\n",
      " |    |    |    |-- question_answer_5: string (nullable = true)\n",
      " |    |    |    |-- question_answer_6: string (nullable = true)\n",
      " |    |    |    |-- question_answer_7: string (nullable = true)\n",
      " |    |    |    |-- question_answer_8: string (nullable = true)\n",
      " |    |    |    |-- question_answer_9: string (nullable = true)\n",
      " |    |    |-- question_comments_count: array (nullable = true)\n",
      " |    |    |    |-- element: string (containsNull = true)\n",
      " |    |    |-- question_datetime: array (nullable = true)\n",
      " |    |    |    |-- element: timestamp (containsNull = true)\n",
      " |    |    |-- question_link: array (nullable = true)\n",
      " |    |    |    |-- element: string (containsNull = true)\n",
      " |    |    |-- question_text: string (nullable = true)\n",
      " |    |    |-- question_title: array (nullable = true)\n",
      " |    |    |    |-- element: string (containsNull = true)\n",
      " |    |    |-- question_username: array (nullable = true)\n",
      " |    |    |    |-- element: string (containsNull = true)\n",
      " |    |    |-- question_views_count: string (nullable = true)\n",
      "\n"
     ]
    }
   ],
   "source": [
    "lines.printSchema()"
   ]
  },
  {
   "cell_type": "code",
   "execution_count": 63,
   "metadata": {},
   "outputs": [],
   "source": [
    "# converte o json com colunas do tipo array, em um flatten json\n",
    "# renomeia as colunas\n",
    "# conversão de tipos\n",
    "\n",
    "from pyspark.sql.types import *\n",
    "from pyspark.sql import functions as F\n",
    "\n",
    "lines_transf_001 = lines.select(F.explode(\"foo\").alias(\"foo\"))\n",
    "\n",
    "lines_transf_002 = lines_transf_001.withColumn(\"foo.question_datetime\", F.explode(\"foo.question_datetime\"))\\\n",
    "    .withColumn(\"foo.question_title\", F.explode(\"foo.question_title\"))\\\n",
    "    .withColumn(\"foo.question_comments_count\", F.explode(\"foo.question_comments_count\"))\\\n",
    "    .select(\n",
    "        F.col(\"foo.page_category\").alias(\"page_category\"), \n",
    "        F.col(\"foo.page_category_text\").alias(\"page_category_text\"), \n",
    "        F.col(\"foo.question_datetime\").getItem(0).alias(\"question_datetime\"),\n",
    "        F.col(\"foo.question_title\").getItem(0).alias(\"question_title\"),\n",
    "        F.col(\"foo.question_views_count\").alias(\"question_views_count\").cast(IntegerType()),\n",
    "        F.col(\"foo.question_comments_count\").getItem(0).alias(\"question_comments_count\").cast(IntegerType()),\n",
    "        F.col(\"foo.question_text\").alias(\"question_text\"),\n",
    "        F.col(\"foo.question_answers.*\")\n",
    "    )"
   ]
  },
  {
   "cell_type": "code",
   "execution_count": 64,
   "metadata": {},
   "outputs": [
    {
     "name": "stdout",
     "output_type": "stream",
     "text": [
      "root\n",
      " |-- page_category: string (nullable = true)\n",
      " |-- page_category_text: string (nullable = true)\n",
      " |-- question_datetime: timestamp (nullable = true)\n",
      " |-- question_title: string (nullable = true)\n",
      " |-- question_views_count: integer (nullable = true)\n",
      " |-- question_comments_count: integer (nullable = true)\n",
      " |-- question_text: string (nullable = true)\n",
      " |-- question_answer_0: string (nullable = true)\n",
      " |-- question_answer_10: string (nullable = true)\n",
      " |-- question_answer_11: string (nullable = true)\n",
      " |-- question_answer_12: string (nullable = true)\n",
      " |-- question_answer_13: string (nullable = true)\n",
      " |-- question_answer_14: string (nullable = true)\n",
      " |-- question_answer_15: string (nullable = true)\n",
      " |-- question_answer_16: string (nullable = true)\n",
      " |-- question_answer_17: string (nullable = true)\n",
      " |-- question_answer_18: string (nullable = true)\n",
      " |-- question_answer_19: string (nullable = true)\n",
      " |-- question_answer_2: string (nullable = true)\n",
      " |-- question_answer_20: string (nullable = true)\n",
      " |-- question_answer_21: string (nullable = true)\n",
      " |-- question_answer_22: string (nullable = true)\n",
      " |-- question_answer_23: string (nullable = true)\n",
      " |-- question_answer_24: string (nullable = true)\n",
      " |-- question_answer_25: string (nullable = true)\n",
      " |-- question_answer_26: string (nullable = true)\n",
      " |-- question_answer_27: string (nullable = true)\n",
      " |-- question_answer_28: string (nullable = true)\n",
      " |-- question_answer_29: string (nullable = true)\n",
      " |-- question_answer_3: string (nullable = true)\n",
      " |-- question_answer_30: string (nullable = true)\n",
      " |-- question_answer_4: string (nullable = true)\n",
      " |-- question_answer_5: string (nullable = true)\n",
      " |-- question_answer_6: string (nullable = true)\n",
      " |-- question_answer_7: string (nullable = true)\n",
      " |-- question_answer_8: string (nullable = true)\n",
      " |-- question_answer_9: string (nullable = true)\n",
      "\n"
     ]
    }
   ],
   "source": [
    "lines_transf_002.printSchema()"
   ]
  },
  {
   "cell_type": "code",
   "execution_count": 65,
   "metadata": {},
   "outputs": [],
   "source": [
    "# função com o objetivo de verificar se existem valores null nas principais colunas\n",
    "\n",
    "def check_null_values(dataframe):\n",
    "    return dataframe.select([F.count(F.when(F.col(c).isNull(), c)).alias(c) \\\n",
    "                                    for c in lines_transf_002.select(\n",
    "                                       'page_category',\n",
    "                                       'page_category_text',\n",
    "                                       'question_datetime',\n",
    "                                       'question_title',\n",
    "                                       'question_text',\n",
    "                                       'question_views_count',\n",
    "                                       'question_comments_count').columns]).toPandas().T"
   ]
  },
  {
   "cell_type": "code",
   "execution_count": 66,
   "metadata": {},
   "outputs": [
    {
     "data": {
      "text/html": [
       "<div>\n",
       "<style scoped>\n",
       "    .dataframe tbody tr th:only-of-type {\n",
       "        vertical-align: middle;\n",
       "    }\n",
       "\n",
       "    .dataframe tbody tr th {\n",
       "        vertical-align: top;\n",
       "    }\n",
       "\n",
       "    .dataframe thead th {\n",
       "        text-align: right;\n",
       "    }\n",
       "</style>\n",
       "<table border=\"1\" class=\"dataframe\">\n",
       "  <thead>\n",
       "    <tr style=\"text-align: right;\">\n",
       "      <th></th>\n",
       "      <th>0</th>\n",
       "    </tr>\n",
       "  </thead>\n",
       "  <tbody>\n",
       "    <tr>\n",
       "      <th>page_category</th>\n",
       "      <td>0</td>\n",
       "    </tr>\n",
       "    <tr>\n",
       "      <th>page_category_text</th>\n",
       "      <td>7</td>\n",
       "    </tr>\n",
       "    <tr>\n",
       "      <th>question_datetime</th>\n",
       "      <td>0</td>\n",
       "    </tr>\n",
       "    <tr>\n",
       "      <th>question_title</th>\n",
       "      <td>0</td>\n",
       "    </tr>\n",
       "    <tr>\n",
       "      <th>question_text</th>\n",
       "      <td>0</td>\n",
       "    </tr>\n",
       "    <tr>\n",
       "      <th>question_views_count</th>\n",
       "      <td>99</td>\n",
       "    </tr>\n",
       "    <tr>\n",
       "      <th>question_comments_count</th>\n",
       "      <td>0</td>\n",
       "    </tr>\n",
       "  </tbody>\n",
       "</table>\n",
       "</div>"
      ],
      "text/plain": [
       "                          0\n",
       "page_category             0\n",
       "page_category_text        7\n",
       "question_datetime         0\n",
       "question_title            0\n",
       "question_text             0\n",
       "question_views_count     99\n",
       "question_comments_count   0"
      ]
     },
     "execution_count": 66,
     "metadata": {},
     "output_type": "execute_result"
    }
   ],
   "source": [
    "# existem valores null?\n",
    "\n",
    "check_null_values(lines_transf_002)"
   ]
  },
  {
   "cell_type": "code",
   "execution_count": 67,
   "metadata": {},
   "outputs": [],
   "source": [
    "# substitui os valores null das colunas identificadas no passo anterior\n",
    "\n",
    "lines_transf_003 = lines_transf_002.fillna({'question_views_count': 0, 'page_category_text': 'Não Informado'})"
   ]
  },
  {
   "cell_type": "code",
   "execution_count": 68,
   "metadata": {},
   "outputs": [
    {
     "data": {
      "text/html": [
       "<div>\n",
       "<style scoped>\n",
       "    .dataframe tbody tr th:only-of-type {\n",
       "        vertical-align: middle;\n",
       "    }\n",
       "\n",
       "    .dataframe tbody tr th {\n",
       "        vertical-align: top;\n",
       "    }\n",
       "\n",
       "    .dataframe thead th {\n",
       "        text-align: right;\n",
       "    }\n",
       "</style>\n",
       "<table border=\"1\" class=\"dataframe\">\n",
       "  <thead>\n",
       "    <tr style=\"text-align: right;\">\n",
       "      <th></th>\n",
       "      <th>0</th>\n",
       "    </tr>\n",
       "  </thead>\n",
       "  <tbody>\n",
       "    <tr>\n",
       "      <th>page_category</th>\n",
       "      <td>0</td>\n",
       "    </tr>\n",
       "    <tr>\n",
       "      <th>page_category_text</th>\n",
       "      <td>0</td>\n",
       "    </tr>\n",
       "    <tr>\n",
       "      <th>question_datetime</th>\n",
       "      <td>0</td>\n",
       "    </tr>\n",
       "    <tr>\n",
       "      <th>question_title</th>\n",
       "      <td>0</td>\n",
       "    </tr>\n",
       "    <tr>\n",
       "      <th>question_text</th>\n",
       "      <td>0</td>\n",
       "    </tr>\n",
       "    <tr>\n",
       "      <th>question_views_count</th>\n",
       "      <td>0</td>\n",
       "    </tr>\n",
       "    <tr>\n",
       "      <th>question_comments_count</th>\n",
       "      <td>0</td>\n",
       "    </tr>\n",
       "  </tbody>\n",
       "</table>\n",
       "</div>"
      ],
      "text/plain": [
       "                         0\n",
       "page_category            0\n",
       "page_category_text       0\n",
       "question_datetime        0\n",
       "question_title           0\n",
       "question_text            0\n",
       "question_views_count     0\n",
       "question_comments_count  0"
      ]
     },
     "execution_count": 68,
     "metadata": {},
     "output_type": "execute_result"
    }
   ],
   "source": [
    "# existem valores null?\n",
    "\n",
    "check_null_values(lines_transf_003)"
   ]
  },
  {
   "cell_type": "code",
   "execution_count": 121,
   "metadata": {},
   "outputs": [
    {
     "data": {
      "text/plain": [
       "1"
      ]
     },
     "execution_count": 121,
     "metadata": {},
     "output_type": "execute_result"
    }
   ],
   "source": [
    "# verifica o numero de partições\n",
    "\n",
    "lines_transf_003.rdd.getNumPartitions()\n"
   ]
  },
  {
   "cell_type": "code",
   "execution_count": 122,
   "metadata": {},
   "outputs": [],
   "source": [
    "# inclusão da coluna [partition_key] que será utilizada para particionar os dados por ano e mês (YYYYmm)\n",
    "\n",
    "lines_transf_004 = lines_transf_002.withColumn(\"partition_key\", \n",
    "                                               F.date_format(col(\"question_datetime\"), 'yyyyMM').cast(IntegerType()))\n",
    "\n"
   ]
  },
  {
   "cell_type": "code",
   "execution_count": 123,
   "metadata": {},
   "outputs": [
    {
     "name": "stdout",
     "output_type": "stream",
     "text": [
      "root\n",
      " |-- page_category: string (nullable = true)\n",
      " |-- page_category_text: string (nullable = true)\n",
      " |-- question_datetime: timestamp (nullable = true)\n",
      " |-- question_title: string (nullable = true)\n",
      " |-- question_views_count: integer (nullable = true)\n",
      " |-- question_comments_count: integer (nullable = true)\n",
      " |-- question_text: string (nullable = true)\n",
      " |-- question_answer_0: string (nullable = true)\n",
      " |-- question_answer_10: string (nullable = true)\n",
      " |-- question_answer_11: string (nullable = true)\n",
      " |-- question_answer_12: string (nullable = true)\n",
      " |-- question_answer_13: string (nullable = true)\n",
      " |-- question_answer_14: string (nullable = true)\n",
      " |-- question_answer_15: string (nullable = true)\n",
      " |-- question_answer_16: string (nullable = true)\n",
      " |-- question_answer_17: string (nullable = true)\n",
      " |-- question_answer_18: string (nullable = true)\n",
      " |-- question_answer_19: string (nullable = true)\n",
      " |-- question_answer_2: string (nullable = true)\n",
      " |-- question_answer_20: string (nullable = true)\n",
      " |-- question_answer_21: string (nullable = true)\n",
      " |-- question_answer_22: string (nullable = true)\n",
      " |-- question_answer_23: string (nullable = true)\n",
      " |-- question_answer_24: string (nullable = true)\n",
      " |-- question_answer_25: string (nullable = true)\n",
      " |-- question_answer_26: string (nullable = true)\n",
      " |-- question_answer_27: string (nullable = true)\n",
      " |-- question_answer_28: string (nullable = true)\n",
      " |-- question_answer_29: string (nullable = true)\n",
      " |-- question_answer_3: string (nullable = true)\n",
      " |-- question_answer_30: string (nullable = true)\n",
      " |-- question_answer_4: string (nullable = true)\n",
      " |-- question_answer_5: string (nullable = true)\n",
      " |-- question_answer_6: string (nullable = true)\n",
      " |-- question_answer_7: string (nullable = true)\n",
      " |-- question_answer_8: string (nullable = true)\n",
      " |-- question_answer_9: string (nullable = true)\n",
      " |-- partition_key: integer (nullable = true)\n",
      "\n"
     ]
    }
   ],
   "source": [
    "lines_transf_004.printSchema()"
   ]
  },
  {
   "cell_type": "code",
   "execution_count": 124,
   "metadata": {},
   "outputs": [],
   "source": [
    "lines_transf_004.write\\\n",
    "    .mode(\"overwrite\")\\\n",
    "    .format(\"parquet\")\\\n",
    "    .partitionBy('partition_key')\\\n",
    "    .option(\"maxRecordsPerFile\", 100)\\\n",
    "    .save('hdfs://localhost:8020/user/danielqueiroz/output/resultado_crawler')"
   ]
  },
  {
   "cell_type": "code",
   "execution_count": null,
   "metadata": {},
   "outputs": [],
   "source": []
  }
 ],
 "metadata": {
  "kernelspec": {
   "display_name": "Python 3",
   "language": "python",
   "name": "python3"
  },
  "language_info": {
   "codemirror_mode": {
    "name": "ipython",
    "version": 3
   },
   "file_extension": ".py",
   "mimetype": "text/x-python",
   "name": "python",
   "nbconvert_exporter": "python",
   "pygments_lexer": "ipython3",
   "version": "3.8.3"
  }
 },
 "nbformat": 4,
 "nbformat_minor": 4
}
