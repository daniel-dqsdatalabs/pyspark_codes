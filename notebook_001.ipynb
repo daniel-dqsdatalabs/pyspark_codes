{
 "cells": [
  {
   "cell_type": "code",
   "execution_count": 16,
   "metadata": {},
   "outputs": [],
   "source": [
    "from pyspark.context import SparkContext\n",
    "sc = SparkContext.getOrCreate(\"local[*]\")"
   ]
  },
  {
   "cell_type": "code",
   "execution_count": 113,
   "metadata": {},
   "outputs": [],
   "source": [
    "from pyspark.sql import SQLContext\n",
    "sqlContext = SQLContext(sc)"
   ]
  },
  {
   "cell_type": "code",
   "execution_count": 114,
   "metadata": {},
   "outputs": [],
   "source": [
    "lines = sqlContext.read\\\n",
    "    .option(\"multiline\", \"true\")\\\n",
    "    .json('hdfs://localhost:8020/user/danielqueiroz/input/resultado_crawler_*.json')"
   ]
  },
  {
   "cell_type": "code",
   "execution_count": 115,
   "metadata": {},
   "outputs": [
    {
     "name": "stdout",
     "output_type": "stream",
     "text": [
      "root\n",
      " |-- foo: array (nullable = true)\n",
      " |    |-- element: struct (containsNull = true)\n",
      " |    |    |-- page_category: string (nullable = true)\n",
      " |    |    |-- page_category_text: string (nullable = true)\n",
      " |    |    |-- page_url: string (nullable = true)\n",
      " |    |    |-- question_answers: struct (nullable = true)\n",
      " |    |    |    |-- question_answer_0: string (nullable = true)\n",
      " |    |    |    |-- question_answer_10: string (nullable = true)\n",
      " |    |    |    |-- question_answer_11: string (nullable = true)\n",
      " |    |    |    |-- question_answer_12: string (nullable = true)\n",
      " |    |    |    |-- question_answer_13: string (nullable = true)\n",
      " |    |    |    |-- question_answer_14: string (nullable = true)\n",
      " |    |    |    |-- question_answer_15: string (nullable = true)\n",
      " |    |    |    |-- question_answer_16: string (nullable = true)\n",
      " |    |    |    |-- question_answer_17: string (nullable = true)\n",
      " |    |    |    |-- question_answer_18: string (nullable = true)\n",
      " |    |    |    |-- question_answer_19: string (nullable = true)\n",
      " |    |    |    |-- question_answer_2: string (nullable = true)\n",
      " |    |    |    |-- question_answer_20: string (nullable = true)\n",
      " |    |    |    |-- question_answer_21: string (nullable = true)\n",
      " |    |    |    |-- question_answer_22: string (nullable = true)\n",
      " |    |    |    |-- question_answer_23: string (nullable = true)\n",
      " |    |    |    |-- question_answer_24: string (nullable = true)\n",
      " |    |    |    |-- question_answer_25: string (nullable = true)\n",
      " |    |    |    |-- question_answer_26: string (nullable = true)\n",
      " |    |    |    |-- question_answer_27: string (nullable = true)\n",
      " |    |    |    |-- question_answer_28: string (nullable = true)\n",
      " |    |    |    |-- question_answer_29: string (nullable = true)\n",
      " |    |    |    |-- question_answer_3: string (nullable = true)\n",
      " |    |    |    |-- question_answer_30: string (nullable = true)\n",
      " |    |    |    |-- question_answer_4: string (nullable = true)\n",
      " |    |    |    |-- question_answer_5: string (nullable = true)\n",
      " |    |    |    |-- question_answer_6: string (nullable = true)\n",
      " |    |    |    |-- question_answer_7: string (nullable = true)\n",
      " |    |    |    |-- question_answer_8: string (nullable = true)\n",
      " |    |    |    |-- question_answer_9: string (nullable = true)\n",
      " |    |    |-- question_comments_count: array (nullable = true)\n",
      " |    |    |    |-- element: string (containsNull = true)\n",
      " |    |    |-- question_datetime: array (nullable = true)\n",
      " |    |    |    |-- element: timestamp (containsNull = true)\n",
      " |    |    |-- question_link: array (nullable = true)\n",
      " |    |    |    |-- element: string (containsNull = true)\n",
      " |    |    |-- question_text: string (nullable = true)\n",
      " |    |    |-- question_title: array (nullable = true)\n",
      " |    |    |    |-- element: string (containsNull = true)\n",
      " |    |    |-- question_username: array (nullable = true)\n",
      " |    |    |    |-- element: string (containsNull = true)\n",
      " |    |    |-- question_views_count: string (nullable = true)\n",
      "\n"
     ]
    }
   ],
   "source": [
    "lines.printSchema()"
   ]
  },
  {
   "cell_type": "code",
   "execution_count": 116,
   "metadata": {},
   "outputs": [],
   "source": [
    "from pyspark.sql.types import *\n",
    "from pyspark.sql import functions as F\n",
    "\n",
    "lines_transf_001 = lines.select(explode(\"foo\").alias(\"foo\"))\n",
    "\n",
    "lines_transf_002 = lines_transf_001.withColumn(\"foo.question_datetime\", F.explode(\"foo.question_datetime\"))\\\n",
    "    .withColumn(\"foo.question_title\", F.explode(\"foo.question_title\"))\\\n",
    "    .withColumn(\"foo.question_comments_count\", F.explode(\"foo.question_comments_count\"))\\\n",
    "    .select(\n",
    "        col(\"foo.page_category\").alias(\"page_category\"), \n",
    "        col(\"foo.page_category_text\").alias(\"page_category_text\"), \n",
    "        col(\"foo.question_datetime\").getItem(0).alias(\"question_datetime\"),\n",
    "        col(\"foo.question_title\").getItem(0).alias(\"question_title\"),\n",
    "        col(\"foo.question_views_count\").alias(\"question_views_count\").cast(IntegerType()),\n",
    "        col(\"foo.question_comments_count\").getItem(0).alias(\"question_comments_count\").cast(IntegerType()),\n",
    "        col(\"foo.question_text\").alias(\"question_text\"),\n",
    "        col(\"foo.question_answers.*\")\n",
    "    )"
   ]
  },
  {
   "cell_type": "code",
   "execution_count": 117,
   "metadata": {},
   "outputs": [
    {
     "name": "stdout",
     "output_type": "stream",
     "text": [
      "root\n",
      " |-- page_category: string (nullable = true)\n",
      " |-- page_category_text: string (nullable = true)\n",
      " |-- question_datetime: timestamp (nullable = true)\n",
      " |-- question_title: string (nullable = true)\n",
      " |-- question_views_count: integer (nullable = true)\n",
      " |-- question_comments_count: integer (nullable = true)\n",
      " |-- question_text: string (nullable = true)\n",
      " |-- question_answer_0: string (nullable = true)\n",
      " |-- question_answer_10: string (nullable = true)\n",
      " |-- question_answer_11: string (nullable = true)\n",
      " |-- question_answer_12: string (nullable = true)\n",
      " |-- question_answer_13: string (nullable = true)\n",
      " |-- question_answer_14: string (nullable = true)\n",
      " |-- question_answer_15: string (nullable = true)\n",
      " |-- question_answer_16: string (nullable = true)\n",
      " |-- question_answer_17: string (nullable = true)\n",
      " |-- question_answer_18: string (nullable = true)\n",
      " |-- question_answer_19: string (nullable = true)\n",
      " |-- question_answer_2: string (nullable = true)\n",
      " |-- question_answer_20: string (nullable = true)\n",
      " |-- question_answer_21: string (nullable = true)\n",
      " |-- question_answer_22: string (nullable = true)\n",
      " |-- question_answer_23: string (nullable = true)\n",
      " |-- question_answer_24: string (nullable = true)\n",
      " |-- question_answer_25: string (nullable = true)\n",
      " |-- question_answer_26: string (nullable = true)\n",
      " |-- question_answer_27: string (nullable = true)\n",
      " |-- question_answer_28: string (nullable = true)\n",
      " |-- question_answer_29: string (nullable = true)\n",
      " |-- question_answer_3: string (nullable = true)\n",
      " |-- question_answer_30: string (nullable = true)\n",
      " |-- question_answer_4: string (nullable = true)\n",
      " |-- question_answer_5: string (nullable = true)\n",
      " |-- question_answer_6: string (nullable = true)\n",
      " |-- question_answer_7: string (nullable = true)\n",
      " |-- question_answer_8: string (nullable = true)\n",
      " |-- question_answer_9: string (nullable = true)\n",
      "\n"
     ]
    }
   ],
   "source": [
    "lines_transf_002.printSchema()"
   ]
  },
  {
   "cell_type": "code",
   "execution_count": 121,
   "metadata": {},
   "outputs": [
    {
     "data": {
      "text/plain": [
       "1"
      ]
     },
     "execution_count": 121,
     "metadata": {},
     "output_type": "execute_result"
    }
   ],
   "source": [
    "# verifica o numero de partições\n",
    "\n",
    "lines_transf_002.rdd.getNumPartitions()\n"
   ]
  },
  {
   "cell_type": "code",
   "execution_count": 122,
   "metadata": {},
   "outputs": [],
   "source": [
    "# inclusão da coluna [partition_key] que será utilizada para particionar os dados por ano e mês (YYYYmm)\n",
    "\n",
    "lines_transf_003 = lines_transf_002.withColumn(\"partition_key\", \n",
    "                                               F.date_format(col(\"question_datetime\"), 'yyyyMM').cast(IntegerType()))\n",
    "\n"
   ]
  },
  {
   "cell_type": "code",
   "execution_count": 123,
   "metadata": {},
   "outputs": [
    {
     "name": "stdout",
     "output_type": "stream",
     "text": [
      "root\n",
      " |-- page_category: string (nullable = true)\n",
      " |-- page_category_text: string (nullable = true)\n",
      " |-- question_datetime: timestamp (nullable = true)\n",
      " |-- question_title: string (nullable = true)\n",
      " |-- question_views_count: integer (nullable = true)\n",
      " |-- question_comments_count: integer (nullable = true)\n",
      " |-- question_text: string (nullable = true)\n",
      " |-- question_answer_0: string (nullable = true)\n",
      " |-- question_answer_10: string (nullable = true)\n",
      " |-- question_answer_11: string (nullable = true)\n",
      " |-- question_answer_12: string (nullable = true)\n",
      " |-- question_answer_13: string (nullable = true)\n",
      " |-- question_answer_14: string (nullable = true)\n",
      " |-- question_answer_15: string (nullable = true)\n",
      " |-- question_answer_16: string (nullable = true)\n",
      " |-- question_answer_17: string (nullable = true)\n",
      " |-- question_answer_18: string (nullable = true)\n",
      " |-- question_answer_19: string (nullable = true)\n",
      " |-- question_answer_2: string (nullable = true)\n",
      " |-- question_answer_20: string (nullable = true)\n",
      " |-- question_answer_21: string (nullable = true)\n",
      " |-- question_answer_22: string (nullable = true)\n",
      " |-- question_answer_23: string (nullable = true)\n",
      " |-- question_answer_24: string (nullable = true)\n",
      " |-- question_answer_25: string (nullable = true)\n",
      " |-- question_answer_26: string (nullable = true)\n",
      " |-- question_answer_27: string (nullable = true)\n",
      " |-- question_answer_28: string (nullable = true)\n",
      " |-- question_answer_29: string (nullable = true)\n",
      " |-- question_answer_3: string (nullable = true)\n",
      " |-- question_answer_30: string (nullable = true)\n",
      " |-- question_answer_4: string (nullable = true)\n",
      " |-- question_answer_5: string (nullable = true)\n",
      " |-- question_answer_6: string (nullable = true)\n",
      " |-- question_answer_7: string (nullable = true)\n",
      " |-- question_answer_8: string (nullable = true)\n",
      " |-- question_answer_9: string (nullable = true)\n",
      " |-- partition_key: integer (nullable = true)\n",
      "\n"
     ]
    }
   ],
   "source": [
    "lines_transf_003.printSchema()"
   ]
  },
  {
   "cell_type": "code",
   "execution_count": 124,
   "metadata": {},
   "outputs": [],
   "source": [
    "lines_transf_003.write\\\n",
    "    .mode(\"overwrite\")\\\n",
    "    .format(\"parquet\")\\\n",
    "    .partitionBy('partition_key')\\\n",
    "    .option(\"maxRecordsPerFile\", 100)\\\n",
    "    .save('hdfs://localhost:8020/user/danielqueiroz/output/resultado_crawler')"
   ]
  },
  {
   "cell_type": "code",
   "execution_count": null,
   "metadata": {},
   "outputs": [],
   "source": []
  }
 ],
 "metadata": {
  "kernelspec": {
   "display_name": "Python 3",
   "language": "python",
   "name": "python3"
  },
  "language_info": {
   "codemirror_mode": {
    "name": "ipython",
    "version": 3
   },
   "file_extension": ".py",
   "mimetype": "text/x-python",
   "name": "python",
   "nbconvert_exporter": "python",
   "pygments_lexer": "ipython3",
   "version": "3.8.3"
  }
 },
 "nbformat": 4,
 "nbformat_minor": 4
}
